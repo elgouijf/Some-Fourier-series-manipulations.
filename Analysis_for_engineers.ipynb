{
 "cells": [
  {
   "cell_type": "markdown",
   "metadata": {},
   "source": [
    "# Mini-stage d'analyse pour l'ingénieur\n",
    "\n",
    "**Brigitte Bidegaray-Fesquet, Abdessami Jalled, Zeinab Mohamad Ali, Valérie Perrier**\n",
    "\n",
    "Tous les documents pour ce TP sont disponibles dans le dossier [Documents/TP Jupyter LaTeX](https://chamilo.grenoble-inp.fr/main/document/document.php?cidReq=ENSIMAG3MMAI&id_session=0&gidReq=0&gradebook=0&origin=&id=775120) sur Chamilo.\n",
    "\n",
    "### Le but de ce mini-stage est\n",
    "\n",
    "* de faire connaissance avec certaines librairies **python** pour le calcul scientifique ;\n",
    "* de faire connaissance avec l'écriture de formules en **LaTeX**, outil de traitement de texte utilisé notamment en mathématiques ;\n",
    "* de s'exercer au **compte-rendu de TP** sur des exercices en lien avec le cours d'analyse pour l'ingénieur;\n",
    "* de rédiger ce TP dans un *notebook* permettant de présenter conjointement les calculs et la démarche suivie, et permettant la reproductibilité de vos résultats.\n",
    "\n",
    "La partie 1 de ce sujet vous propose une introduction rapide au *notebook*. Prenez le temps de parcourir l'aide.\n",
    "    \n",
    "La partie 2 présente quelques librairies python pour les mathématiques avec une application aux sinusoïdes. Prenez le temps de répondre aux questions sur la représentation des vecteurs et des matrices. \n",
    "    \n",
    "La partie 3 introduit les séries de Fourier et vous permettra dans l'écriture des réponses de vous familiariser avec l'écriture des équations en LaTeX. Des exemples vous sont donnés en éditant les zones <i>markdown</i> de ce sujet. C'est le cœur du sujet avec les propriétés des séries de Fourier et leur illustration numérique sur un exemple.\n",
    "    \n",
    "Enfin la dernière partie est plus libre et vous donne quelques pistes d'exploration autour du sujet.\n",
    "\n",
    "La notation prendra en compte la qualité de la programmation du point de vue de l'utilisation du langage python et de l'algorithmique, et de la qualité de la rédaction, tant en ce qui concerne la présentation en LaTeX que le contenu scientifique.\n",
    "\n",
    "### Consignes pour le rendu \n",
    "\n",
    "* Travailler en binôme et déclarer ces binômes sur Teide. \n",
    "Les deux membres du binôme doivent être dans le même groupe de TP.\n",
    "* Modifier le présent *notebook* en rédigeant les réponses dans les cellules prédéfinies.\n",
    "* Renommer ce *notebook* &lt;NomBinome1-NomBinome2&gt;.ipynb et le déposer sur Teide.\n",
    "* Le *notebook* doit s'exécuter parfaitement et présenter l'analyse des résultats obtenus (et non leur paraphrase puisque les résultats sont déjà visibles dans le *notebook*) et des commentaires éventuels permettant la compréhension des choix algorithmiques effectués ou des difficultés rencontrées. \n",
    "Le compte-rendu doit néanmoins rester relativement concis.\n",
    "* Relisez-vous, soignez la présentation des figures et des formules mathématiques.\n",
    "\n",
    "<h3 align=center><font color=\"red\">Date limite de rendu : vendredi 10 janvier 2025 à 23h59</font></h3>\n",
    "\n",
    "Bon courage à tous, et <u>n'hésitez pas à faire appel aux encadrants</u> aussi souvent que nécessaire !"
   ]
  },
  {
   "cell_type": "markdown",
   "metadata": {},
   "source": [
    "## 1. Travailler dans un *notebook*\n",
    "\n",
    "L'utilisation d'un *notebook* permet de réunir en un même lieu, la description du problème à résoudre et des méthodes utilisées, le code correspondant, les sorties du code et en particulier ici des graphiques, et l'analyse des résultats obtenus. C'est un des outils pour permettre la reproductibilité de résultats. \n",
    "\n",
    "### 1.1. Types de cellules\n",
    "\n",
    "Il est constitué d'une succession de cellules notamment\n",
    "* **des cellules de texte** (`Markdown`) dont le formattage est un mélange de *markdown*, d'HTML et de LaTeX. Il suffit de double-cliquer sur une telle cellule pour voir comment elle est rédigée. `Maj`-`Entrée` permet d'interpréter le contenu de la cellule.\n",
    "* **des cellules de code**, dans lesquelles on rédige le code. Leur exécution peut afficher des résultats ou des courbes.\n",
    "\n",
    "### 1.2.  Formattage du texte\n",
    "\n",
    "N'hésitez pas à imiter ! Par exemple, dans cette cellule, vous pouvez voir comment coder en *markdown* \n",
    "* un titre (de niveau 2 et 3),\n",
    "* du texte en *italique*,\n",
    "* du texte en **gras**,\n",
    "* des commandes,\n",
    "* une liste.\n",
    "\n",
    "Dans la cellule au dessus, le changement de couleur de texte résulte de l'utilisation de commandes HTML (`<font color=red>...</font>`).\n",
    "\n",
    "LaTeX (prononcer latek...) est utilisé pour écrire les formules mathématiques, mais ce langage dépasse de loin cet usage. Il sert pour écrire des documents complets où tout le contenu et le formattage sont codés dans ce langage. Vous trouverez plus d'informations sur Chamilo. Vous trouverez également plus loin des exemples d'utilisation, dans la présentation des séries de Fourier. \n",
    "\n",
    "Pour un joli rendu, toutes les formules, même constituées d'un symbole unique, doivent être en LaTeX.\n",
    "Les formules *en ligne* doivent être encadrées par des dollars (`$formule$`). Il y a plusieurs façons de disposer des formules sur une ligne à part, ici nous utilisons `\\begin{equation}une ligne de formules\\end{equation}` pour une seule ligne et `\\begin{align}plusieurs lignes de formules\\end{align}` pour aligner avec `&` plusieurs lignes séparées par `\\\\`.\n",
    "\n",
    "\n",
    "### 1.3. L'aide\n",
    "\n",
    "Dans l'onglet `Help`, vous y trouverez notamment de l'aide sur\n",
    "* le fonctionnement d'un *notebook*,\n",
    "* le langage *markdown*,\n",
    "* quelques librairies python.\n",
    "\n",
    "Vous pouvez également accéder à la documentation de python en tapant `help()`.\n",
    "Laissez-vous guider. Essayez les recherches suivantes.\n",
    "* `print`\n",
    "* `symbols`\n",
    "\n",
    "N'oubliez pas de faire `quit` à la fin..."
   ]
  },
  {
   "cell_type": "code",
   "execution_count": 3,
   "metadata": {},
   "outputs": [],
   "source": [
    "#help()"
   ]
  },
  {
   "cell_type": "markdown",
   "metadata": {},
   "source": [
    "Vous pouvez aussi directement demander l'aide d'une fonction particulière."
   ]
  },
  {
   "cell_type": "code",
   "execution_count": 4,
   "metadata": {},
   "outputs": [
    {
     "name": "stdout",
     "output_type": "stream",
     "text": [
      "Help on built-in function print in module builtins:\n",
      "\n",
      "print(*args, sep=' ', end='\\n', file=None, flush=False)\n",
      "    Prints the values to a stream, or to sys.stdout by default.\n",
      "    \n",
      "    sep\n",
      "      string inserted between values, default a space.\n",
      "    end\n",
      "      string appended after the last value, default a newline.\n",
      "    file\n",
      "      a file-like object (stream); defaults to the current sys.stdout.\n",
      "    flush\n",
      "      whether to forcibly flush the stream.\n",
      "\n"
     ]
    }
   ],
   "source": [
    "help(print)"
   ]
  },
  {
   "cell_type": "markdown",
   "metadata": {},
   "source": [
    "## 2. Signaux sinusoïdaux purs\n",
    "\n",
    "L'analyse de Fourier est basée sur la représentation à l'aide de signaux sinusoïdaux purs. Un signal pur de fréquence $\\lambda$ s'écrit\n",
    "\\begin{equation}\n",
    "t \\mapsto \\sin(2\\pi\\lambda t).\n",
    "\\end{equation}\n",
    "En guise d'échauffement en python, nous allons voir comment les calculer numériquement et les représenter graphiquement. \n",
    "\n",
    "### 2.1. Librairies python utiles\n",
    "\n",
    "Pour le présent TP, nous aurons besoin d'un certain nombre de librairies pour les mathématiques.\n",
    "* la commande `%matplotlib inline` permet d'effectuer les graphismes en ligne dans le *notebook*,\n",
    "* `matplotlib.pyplot` contient les fonctions pour tracer les courbes,\n",
    "* `numpy` contient les fonctions pour le travail sur les tableaux et les matrices,\n",
    "* `math` contient les fonctions mathématiques usuelles.\n",
    "\n",
    "Dans ce TP, on utilisera systématiquement des objets `numpy` pour représenter les vecteurs et les matrices (et non des listes).\n",
    "À noter que les fonctions de base ont aussi des versions dans la librairie `numpy` qui s'appliquent aux objets (vecteurs, matrices) terme-à-terme. Pour savoir exactement ce que l'on utilise, on a intérêt à expliciter les librairies et à ne pas tout importer avec `*`.\n",
    "\n",
    "Commençons par importer les librairies nécessaires. \n",
    "À noter que ce qui est déjà importé dans un *notebook* n'est pas à ré-importer lors d'utilisations ultérieures. "
   ]
  },
  {
   "cell_type": "code",
   "execution_count": 5,
   "metadata": {},
   "outputs": [],
   "source": [
    "%matplotlib inline\n",
    "import matplotlib.pyplot as plt\n",
    "import numpy as np\n",
    "from math import pi, cos, sin"
   ]
  },
  {
   "cell_type": "markdown",
   "metadata": {},
   "source": [
    "Pour une implémentation numérique des fonctions, nous allons bien sûr devoir nous limiter à leur discrétisation, c'est-à-dire ici à leur représentation par leurs valeurs sur un ensemble discret et fini de points. Ces points ainsi que les valeurs de fonctions en ces points seront donc représentés par des vecteurs.\n",
    "\n",
    "### 2.2. Vecteurs et matrices\n",
    "\n",
    "La façon la plus simple de définir une matrice $n \\times m$ en python est d'entrer au clavier la liste de ses éléments, par exemple\n",
    "\n",
    "```\n",
    "A = np.array([[a11, a12, a13], [a21, a22, a23]])\n",
    "```\n",
    "\n",
    "**Opérations élémentaires**\n",
    "\n",
    "* `A[k, :]` une ligne de la matrice $A$       \n",
    "* `A + B` somme\n",
    "* `np.matmul(A, B)` ou `A@B` produit matriciel\n",
    "* `A * B` produit terme à terme\n",
    "* `np.linalg.det(A)` déterminant de $A$\n",
    "* `np.transpose(A)` transposée de $A$\n",
    "* `np.linalg.inv(A)` inverse de $A$\n",
    "\n",
    "En python, la numérotation commence à 0."
   ]
  },
  {
   "cell_type": "markdown",
   "metadata": {},
   "source": [
    "#### <font color=blue>Questions : Testez les opérations sur les matrices</font>\n",
    "\n",
    "Définir la matrice\n",
    "\\begin{equation}\n",
    "    M = \\begin{pmatrix}\n",
    "      1 & 0 & 3 & 1 \\\\\n",
    "      1 & 2 & 0 & 1 \\\\\n",
    "      0 & 1 & 3 & 0\n",
    "    \\end{pmatrix}.\n",
    "\\end{equation}\n",
    "1. Quelle est la commande donnant les dimensions de la matrice $M$ ?"
   ]
  },
  {
   "cell_type": "code",
   "execution_count": 6,
   "metadata": {},
   "outputs": [
    {
     "name": "stdout",
     "output_type": "stream",
     "text": [
      "(3, 4)\n"
     ]
    }
   ],
   "source": [
    "# Déclaration de la matrice M\n",
    "M = np.array([[1, 0, 3, 1], [1, 2, 0, 1], [0, 1, 3, 0]])\n",
    "\n",
    "# Dimensions de M \n",
    "dim = np.shape(M)\n",
    "print(dim)"
   ]
  },
  {
   "cell_type": "markdown",
   "metadata": {},
   "source": [
    "2. Extraire la première ligne, la dernière colonne et l'élément à la deuxième ligne, troisième colonne de $M$."
   ]
  },
  {
   "cell_type": "code",
   "execution_count": 7,
   "metadata": {},
   "outputs": [
    {
     "name": "stdout",
     "output_type": "stream",
     "text": [
      "[1 0 3 1]\n",
      "[1 1 0]\n",
      "0\n"
     ]
    }
   ],
   "source": [
    "# Extraction de la première ligne de M\n",
    "l1 = M[0, :]\n",
    "print(l1)\n",
    "\n",
    "# Extraction de la dernière colonne de M\n",
    "c4 = M[0: ,3]\n",
    "print(c4)\n",
    "\n",
    "# Extraction de l'élément à la 2ème ligne, 3ème colonne de M\n",
    "a23 = M[1,2]\n",
    "print(a23)"
   ]
  },
  {
   "cell_type": "markdown",
   "metadata": {},
   "source": [
    "3. À l'aide de fonctions de la librairie numpy, extraire la diagonale, les parties triangulaires supérieures et inférieures de $M$."
   ]
  },
  {
   "cell_type": "code",
   "execution_count": 8,
   "metadata": {},
   "outputs": [
    {
     "name": "stdout",
     "output_type": "stream",
     "text": [
      "[1 2 3]\n",
      "[[1 0 3 1]\n",
      " [0 2 0 1]\n",
      " [0 0 3 0]]\n",
      "[[1 0 0 0]\n",
      " [1 2 0 0]\n",
      " [0 1 3 0]]\n"
     ]
    }
   ],
   "source": [
    "# Extraction de la diagonale de M\n",
    "d = np.diagonal(M)\n",
    "print(d)\n",
    "\n",
    "# Extraction de la partie triangulaire supérieure de M\n",
    "tri_sup = np.triu(M)\n",
    "print(tri_sup)\n",
    "\n",
    "# Extraction de la partie triangulaire inférieure de M\n",
    "tri_inf = np.tril(M)\n",
    "print(tri_inf)"
   ]
  },
  {
   "cell_type": "markdown",
   "metadata": {},
   "source": [
    "4. En utilisant les fonctions `np.ones` et `np.diag`, définir la matrice identité $10\\times 10$.\n"
   ]
  },
  {
   "cell_type": "code",
   "execution_count": 9,
   "metadata": {},
   "outputs": [
    {
     "name": "stdout",
     "output_type": "stream",
     "text": [
      "[[1. 0. 0. 0. 0. 0. 0. 0. 0. 0.]\n",
      " [0. 1. 0. 0. 0. 0. 0. 0. 0. 0.]\n",
      " [0. 0. 1. 0. 0. 0. 0. 0. 0. 0.]\n",
      " [0. 0. 0. 1. 0. 0. 0. 0. 0. 0.]\n",
      " [0. 0. 0. 0. 1. 0. 0. 0. 0. 0.]\n",
      " [0. 0. 0. 0. 0. 1. 0. 0. 0. 0.]\n",
      " [0. 0. 0. 0. 0. 0. 1. 0. 0. 0.]\n",
      " [0. 0. 0. 0. 0. 0. 0. 1. 0. 0.]\n",
      " [0. 0. 0. 0. 0. 0. 0. 0. 1. 0.]\n",
      " [0. 0. 0. 0. 0. 0. 0. 0. 0. 1.]]\n"
     ]
    }
   ],
   "source": [
    "# Définition de la matrice identité 10x10\n",
    "id_10 = np.diag(np.diag(np.ones((10,10))))\n",
    "print(id_10)\n"
   ]
  },
  {
   "cell_type": "markdown",
   "metadata": {},
   "source": [
    "5. En utilisant ces mêmes fonctions, définir la matrice tridiagonale d'ordre $10$ suivante :\n",
    "\\begin{equation}\n",
    "      C = \\begin{pmatrix}\n",
    "          2 & -1& & \\mathbf{0} \\\\\n",
    "          1 & 2 & \\ddots & \\\\\n",
    "          & \\ddots & \\ddots & -1 \\\\\n",
    "          \\mathbf{0}& & 1 & 2 \\\\\n",
    "        \\end{pmatrix}\n",
    "\\end{equation}"
   ]
  },
  {
   "cell_type": "code",
   "execution_count": 10,
   "metadata": {},
   "outputs": [
    {
     "name": "stdout",
     "output_type": "stream",
     "text": [
      "[[ 2. -1.  0.  0.  0.  0.  0.  0.  0.  0.]\n",
      " [ 1.  2. -1.  0.  0.  0.  0.  0.  0.  0.]\n",
      " [ 0.  1.  2. -1.  0.  0.  0.  0.  0.  0.]\n",
      " [ 0.  0.  1.  2. -1.  0.  0.  0.  0.  0.]\n",
      " [ 0.  0.  0.  1.  2. -1.  0.  0.  0.  0.]\n",
      " [ 0.  0.  0.  0.  1.  2. -1.  0.  0.  0.]\n",
      " [ 0.  0.  0.  0.  0.  1.  2. -1.  0.  0.]\n",
      " [ 0.  0.  0.  0.  0.  0.  1.  2. -1.  0.]\n",
      " [ 0.  0.  0.  0.  0.  0.  0.  1.  2. -1.]\n",
      " [ 0.  0.  0.  0.  0.  0.  0.  0.  1.  2.]]\n"
     ]
    }
   ],
   "source": [
    "# Définition de la matrice C \n",
    "C_1 = np.diag(np.diag(2*np.ones((10,10))))\n",
    "C_2 = np.diag(np.diag(np.ones((9,9))), k = -1)\n",
    "C_3 = np.diag(np.diag((-1)*np.ones((9,9))), k = 1)\n",
    "C = C_1 + C_2 + C_3\n",
    "print(C)"
   ]
  },
  {
   "cell_type": "markdown",
   "metadata": {},
   "source": [
    "### 2.3. Définir et tracer des fonctions\n",
    "#### 2.3.1. Définition de fonctions\n",
    "\n",
    "Considérons par exemple la fonction \n",
    "\\begin{equation}\n",
    "f(x) = \\sin(2\\pi x)+\\cos(\\pi x).\n",
    "\\end{equation}\n",
    "Nous pouvons la définir ainsi en python\n",
    "```\n",
    "def f(x):\n",
    "     return sin(2 * pi * x) + cos(pi * x)\n",
    "```\n",
    "\n",
    "#### 2.3.2. Fonctions échantillonnées (= discrétisées)\n",
    "\n",
    "Pour le calcul numérique, une fonction peut être définie uniquement en des points de discrétisation de la variable $x$. Par exemple\n",
    "\n",
    "```\n",
    "x = np.linspace(0, 1, 11)\n",
    "```\n",
    "correspond à une discrétisation par pas de $0.1=1/(11-1)$, de l'intervalle $[0,1]$, soit 11 valeurs. On définit alors la fonction sur cette grille discrète. Avec l'exemple précédent, il vaut mieux redéfinir\n",
    "```\n",
    "def f(x):\n",
    "     return np.sin(2 * pi * x) + np.cos(pi * x)\n",
    "```\n",
    "et alors il suffit d'écrire\n",
    "```\n",
    "y = f(x)\n",
    "```\n",
    "pour calculer toutes les valeurs de la fonction $f$.\n",
    "\n",
    "#### 2.3.3. Tracé de courbes\n",
    "\n",
    "Pour tracer une courbe $y=x^2$ sur l'intervalle $[a,b]$ :\n",
    "```\n",
    "x = np.linspace(a, b, n) # x est échantillonné entre a et b avec un pas de (b-a)/(n-1)\n",
    "z = x**2\n",
    "plt.plot(x, z)\n",
    "```\n",
    "\n",
    "##### Pour varier le trait ou la couleur\n",
    "\n",
    "Par exemple, pour tracer en rouge :\n",
    "```\n",
    "plt.plot(x, z, 'r-')\n",
    "```\n",
    "Dans la chaîne de caractères (troisième argument), on donne une lettre imposant la couleur (`r` pour *red*, `b` pour *blue*, `g` pour *green*...) et un symbole pour le trait (`-` pour un trait continu (par défaut), `--` pour des tirets, `:` pour des pointillés...). Pour plus de détails, voir la documentation de `matplotlib.lines.Line2D`.\n",
    "\n",
    "##### Pour tracer plusieurs courbes, rajouter un titre, des axes, une légende\n",
    "\n",
    "```\n",
    "x = np.linspace(0, 10, 101)\n",
    "plt.plot(x, np.cos(x), 'r', label='cosinus')\n",
    "plt.plot(x, np.sin(x), 'b', label='sinus')\n",
    "plt.title('Graphe des fonctions cos et sin')   # titre\n",
    "plt.xlabel('temps')\n",
    "plt.ylabel('f(t)');                            # noms des axes\n",
    "plt.legend()                                   # légende qui utilise les labels\n",
    "```\n",
    "\n",
    "##### Pour tracer plusieurs graphes dans une fenêtre\n",
    "La commande `plt.subplot(n, m, p)`, placée avant un tracé de courbe, subdivise la fenêtre du graphe en une matrice $n\\times m$ de sous-fenêtres et sélectionne la $p$-ième pour dessiner le graphe courant&nbsp;: l'élément $(i, j)$ de la matrice correspond au graphe numéro $(i-1)n + j$.\n",
    "\n",
    "##### Pour exporter une figure\n",
    "La commande `plt.savefig('<fichier', format='pdf')`permet de sauver la figure courante au format pdf. D'autres formats sont possibles."
   ]
  },
  {
   "cell_type": "markdown",
   "metadata": {},
   "source": [
    "#### <font color = blue>Question : Testez le tracé de fonctions</font>\n",
    "\n",
    "Tracer avec deux couleurs différentes les courbes de la fonction sinus sur l'intervalle $[0,2\\pi]$ pour 6 points de discrétisation et 21 points de discrétisation. \n",
    "Ajouter un titre et une légende."
   ]
  },
  {
   "cell_type": "code",
   "execution_count": 11,
   "metadata": {},
   "outputs": [
    {
     "data": {
      "text/plain": [
       "<matplotlib.legend.Legend at 0x1aef3cbd9d0>"
      ]
     },
     "execution_count": 11,
     "metadata": {},
     "output_type": "execute_result"
    },
    {
     "data": {
      "image/png": "[encoded data removed]",
      "text/plain": [
       "<Figure size 640x480 with 1 Axes>"
      ]
     },
     "metadata": {},
     "output_type": "display_data"
    }
   ],
   "source": [
    "plt.title(\"Tracé des fonctions sinus pour 6 points et 21 points de dicrétisation\")\n",
    "# Tracé de sinus sur [0,2pi] pour 6 points de discrétisation\n",
    "x = np.linspace(0, 2*pi, 6)\n",
    "plt.plot(x, np.sin(x), 'r-', label= 'sinus 6')\n",
    "plt.xlabel('x')\n",
    "plt.ylabel('f (x)')\n",
    "\n",
    "# Tracé de sinus sur [0, 2pi] pour 21 points de discrétisation\n",
    "x_prime = np.linspace(0, 2*pi, 21)\n",
    "plt.plot(x_prime, np.sin(x_prime), 'b-', label='sinus 21')\n",
    "plt.legend()\n"
   ]
  },
  {
   "cell_type": "markdown",
   "metadata": {},
   "source": [
    "## 3. Les séries de Fourier\n",
    "\n",
    "Pour en savoir plus : <br>\n",
    "[Ber14] Maïtine Bergounioux, [*Mathématiques pour le traitement du signal*](https://beluga.univ-grenoble-alpes.fr/permalink/33UGRENOBLE_INST/rgi2mt/alma991003269059706161), 2e édition, Dunod (2014).\n",
    "<br>\n",
    "[Sch01] Michelle Schatzman, [*Analyse numérique : une approche mathématique*](https://beluga.univ-grenoble-alpes.fr/permalink/33UGRENOBLE_INST/1vb34gl/alma991005329019706161), chapitre \"Du côté de chez Fourier\", Dunod (2001).\n",
    "\n",
    "### 3.1. Notations\n",
    "\n",
    "#### Polynômes trigonométriques\n",
    "\n",
    "On appelle $\\mathbb{T}_N$ l'espace vectoriel des polynômes trigonométriques de degré au plus $N$ qui s'écrivent sous la forme \n",
    "\\begin{equation}\n",
    "\\sum_{n=-N}^N c_n \\exp\\left(2i\\pi n\\dfrac tT\\right),\n",
    "\\end{equation}\n",
    "où pour $n\\in\\{-N,\\dots,N\\}$, $c_n$ est un nombre complexe. Ces polynômes trigonométriques sont clairement des fonctions périodiques de période $T$.\n",
    "\n",
    "#### Espaces fonctionnels\n",
    "\n",
    "On note $\\mathcal{C}_{\\rm per}^k$ l'espace des fonctions $k$ fois continûment différentiables, périodiques de période $T$. Un cas particulier est $\\mathcal{C}_{\\rm per}^0$, espace des fonctions continues, périodiques de période $T$.\n",
    "\n",
    "On note $\\mathcal{L}_{\\rm per}^1$ l'ensemble des fonctions Lebesgue-intégrables sur tout intervalle borné de $\\mathbb{R}$, périodiques de période $T$. On le munit de la norme\n",
    "\\begin{equation}\n",
    "\\|f\\|_1 = \\int_0^{T} |f(t)| dt.\n",
    "\\end{equation}\n",
    "\n",
    "On note $\\mathcal{L}_{\\rm per}^2$ l'ensemble des fonctions de carré Lebesgue-intégrables sur tout intervalle borné de $\\mathbb{R}$, périodiques de période $T$. On le munit de la norme\n",
    "\\begin{equation}\n",
    "\\|f\\|_2 = \\left(\\int_0^{T} |f(t)|^2 dt\\right)^{1/2}.\n",
    "\\end{equation}\n",
    "\n",
    "### 3.2. Coefficients de Fourier complexes\n",
    "\n",
    "Étant donné $f\\in\\mathcal{L}_{\\rm per}^1$, on définit le $n$-ième coefficient de Fourier par \n",
    "\\begin{equation}\n",
    "c_n(f) = \\frac 1T \\int_0^T f(t) \\exp\\left(-2i\\pi n\\dfrac tT\\right) dt.\n",
    "\\end{equation}\n",
    "On peut alors construire le polynôme trigonométrique\n",
    "\\begin{equation}\n",
    "S_N(t) = \\sum_{n=-N}^N c_n(f) \\exp\\left(2i\\pi n\\dfrac tT\\right).\n",
    "\\end{equation}\n",
    "\n",
    "Si de plus $f\\in\\mathcal{L}_{\\rm per}^2$, on peut montrer que $S_N$ réalise l'approximation au sens des moindres carrés de $f$ dans $\\mathbb{T}_N$, c'est-à-dire que\n",
    "\\begin{equation}\n",
    "\\forall P\\in\\mathbb{T}_N,\\ \\int_0^T |f-S_N|^2 dt \\leq \\int_0^T |f-P|^2 dt.\n",
    "\\end{equation}"
   ]
  },
  {
   "cell_type": "markdown",
   "metadata": {},
   "source": [
    "**<font color=blue>Question :</font>** \n",
    "Rappeler la formule de quadrature des rectangles à gauche permettant d'approcher l'intégrale $c_n(f)$ avec $J$ points de discrétisation régulièrement espacés. (Cela revient à généraliser à une intégrale sur $[0,T]$ la formule vue sur la première feuille de TD.) On utilisera ces points de discrétisation régulièrement espacés en temps dans la suite."
   ]
  },
  {
   "cell_type": "markdown",
   "metadata": {},
   "source": [
    "<font color = blue> $$\\begin{equation}  c_n(f) = \\frac{1}{J} \\sum_{k = 0}^{J-1} f(x_k) \\exp{(-2i\\pi n \\frac{x_k}{T})} \\qquad \\text{avec} \\quad x_k \\in [\\frac{kT}{J}, \\frac{(k+1)T}{J}]\\end{equation}$$<font>"
   ]
  },
  {
   "cell_type": "markdown",
   "metadata": {},
   "source": [
    "**<font color=blue>Question :</font>** \n",
    "Définir une fonction `discreteFourier` qui prend en entrée \n",
    "* un vecteur `numpy` des valeurs d'une fonction $f$ discrétisée avec $J$ points sur $[0,T]$ \n",
    "* et le degré $N$ du polynôme trigonométrique,\n",
    "\n",
    "et retourne les coefficients de Fourier $c_n(f)$. "
   ]
  },
  {
   "cell_type": "code",
   "execution_count": 12,
   "metadata": {},
   "outputs": [],
   "source": [
    "def discreteFourier(fj, N):\n",
    "    \"\"\"prend en entrée : \n",
    "        - un vecteur ecteur numpy \n",
    "          des valeurs d'une fonction  𝑓\n",
    "          discrétisée avec  𝐽 points sur  [0,𝑇]\n",
    "        - le degré N du poynôme trigonométrique \n",
    "       renvoie les coefficients de Fourier c_n(f)\"\"\"\n",
    "    # Nombre de points de discrétisation\n",
    "    J, = np.shape(fj)\n",
    "    # print(J)\n",
    "    # Array de taille N x N pour les coeffs de Fourier (initialisés à 0)\n",
    "    cf_arr = np.zeros(2*N + 1, dtype= complex)\n",
    "    # Calcul des coeffs de Fourier\n",
    "    for i in range(-N, N+1) :\n",
    "            k = 0\n",
    "            coeff = 0\n",
    "            while k <= J-1 :\n",
    "                coeff += (1/J) * fj[k] * np.exp(-2j*pi*i*k/J)        # On prend x_k = kt/J\n",
    "                k += 1\n",
    "            cf_arr[N + i] = coeff\n",
    "    return cf_arr"
   ]
  },
  {
   "cell_type": "markdown",
   "metadata": {},
   "source": [
    "**<font color = blue>Question :</font>** \n",
    "Définir une fonction `invFourier` qui prend en entrée \n",
    "* un vecteur `numpy` des coefficients de Fourier $c_n$ \n",
    "* et le nombre $J$ de points de discrétisation en temps, \n",
    "\n",
    "et retourne la somme partielle $S_N$ aux temps de discrétisation."
   ]
  },
  {
   "cell_type": "code",
   "execution_count": 34,
   "metadata": {},
   "outputs": [],
   "source": [
    "def invFourier(cn, J):\n",
    "    N =  int((np.shape(cn)[0] - 1) / 2)\n",
    "    S_n = np.array([])\n",
    "    for k in range(J):\n",
    "        s_k = 0\n",
    "        for i in range(-N,N+1):\n",
    "            s_k += cn[N + i]*np.exp(2j * pi * i * k/J)\n",
    "        S_n = np.append(S_n,s_k)\n",
    "    return S_n"
   ]
  },
  {
   "cell_type": "markdown",
   "metadata": {},
   "source": [
    "### 3.3. Un exemple\n",
    "\n",
    "Soient $0<a\\leq T$ et un signal créneau, c'est-à-dire la fonction périodique de période $T$ définie sur $[-T/2,T/2]$ par\n",
    "\\begin{equation}\n",
    "f(t) = \\begin{cases}\n",
    "A & \\text{sur } \\left[-\\dfrac a2,\\dfrac a2\\right], \\\\\n",
    "0 & \\text{ailleurs.}\n",
    "\\end{cases}\n",
    "\\end{equation}"
   ]
  },
  {
   "cell_type": "markdown",
   "metadata": {},
   "source": [
    "**<font color = blue>Question :</font>** \n",
    "Définir cette fonction comme fonction python qui dépend de $t$, $a$, $T$ et $A$.<br>\n",
    "Tracer cette fonction sur l'intervalle $[-T,T]$, pour les valeurs $T=2$, $a=0,4$, $A=1,5$.\n",
    "(On gardera ces valeurs pour les illustrations numériques qui suivront.)"
   ]
  },
  {
   "cell_type": "code",
   "execution_count": 14,
   "metadata": {},
   "outputs": [
    {
     "data": {
      "text/plain": [
       "Text(0.5, 1.0, 'Tracé du signal créneau sur [-T, T] avec T = 2')"
      ]
     },
     "execution_count": 14,
     "metadata": {},
     "output_type": "execute_result"
    },
    {
     "data": {
      "image/png": "[encoded data removed]",
      "text/plain": [
       "<Figure size 640x480 with 1 Axes>"
      ]
     },
     "metadata": {},
     "output_type": "display_data"
    }
   ],
   "source": [
    "def f(t, a, T, A):\n",
    "    # f est définie sur l'intervalle [-T/2, T/2]\n",
    "    #if t < -T/2 or t > T/2 :\n",
    "    #   return\n",
    "    if t < 0:\n",
    "        return f(-t,a,T,A)\n",
    "    else :\n",
    "        # f vaut A sur [-a/2 + kT, a/2 + kT]\n",
    "        if 0 <= t % T <= a/2 or T-a/2 <= t % T < T :\n",
    "            return A\n",
    "        # f vaut 0 en dehors de [-a/2 + kT, a/2 + kT]\n",
    "        else :\n",
    "            return 0\n",
    "    \n",
    "# Vectorisation de f \n",
    "f_vectorisee = np.vectorize(f)\n",
    "\n",
    "# Tracé de f sur [-T, T]\n",
    "T = 2\n",
    "a = 0.4\n",
    "A = 1.5\n",
    "t = np.linspace(-T, T, 1000)\n",
    "# print(f_vectorisee(t,a,T,A))\n",
    "plt.plot(t, f_vectorisee(t,a,T,A), 'r-')\n",
    "plt.xlabel('t')\n",
    "plt.ylabel('f')\n",
    "plt.title('Tracé du signal créneau sur [-T, T] avec T = 2')"
   ]
  },
  {
   "cell_type": "markdown",
   "metadata": {},
   "source": [
    "**<font color = blue>Question :</font>** \n",
    "Calculer les coefficients de Fourier $c_n(f)$ pour la fonction créneau. "
   ]
  },
  {
   "cell_type": "markdown",
   "metadata": {},
   "source": [
    "<font color = blue>Soit $n \\in \\mathbb{Z}^*$. \n",
    "    \\begin{equation}\n",
    "    \\begin{split}\n",
    "    c_n(f) & = \\frac{1}{T} \\int_0^T f(t) \\exp\\left(-2in\\pi \\frac{t}{T} \\right) \\; dt = \n",
    "\\frac{1}{T} \\int_{\\frac{-T}{2}}^{\\frac{T}{2}} f(t) \\exp\\left(-2i\\pi n\\frac{t}{T} \\right) \\; dt  \\\\\n",
    "    & = \\frac{1}{T} \\int_{\\frac{-a}{2}}^{\\frac{a}{2}} A \\cdot \\exp \\left(-2i\\pi n \\frac{t}{T} \\right) \\; dt\n",
    "    = \\frac{A}{T} \\cdot \\frac{-T}{2i\\pi n} \\cdot \\left[\\exp\\left(-2i\\pi n \\frac{t}{T} \\right) \\right]_{1}^{2} \\\\\n",
    "    & = \\frac{-A}{2i\\pi n} \\left(\\exp\\left(\\frac{-ai\\pi n}{T} \\right) - \\exp\\left(\\frac{ai\\pi n}{T} \\right)\\right) \\\\\n",
    "    & = \\frac{A}{\\pi n} \\cdot \\sin\\left(\\frac{a\\pi n}{T} \\right) \\\\\n",
    "    \\end{split}\n",
    "    \\end{equation}\n",
    "    Pour $n = 0$ : \n",
    "    \\begin{equation}\n",
    "    c_0(f) = \\frac{1}{T} \\int_{\\frac{-a}{2}}^{\\frac{a}{2}} A \\; dt = \\frac{A}{T} \\cdot \\left[t \\right]_{\\frac{-a}{2}}^{\\frac{a}{2}}= \\frac{aA}{T}\n",
    "    \\end{equation}\n",
    "    <font>"
   ]
  },
  {
   "cell_type": "markdown",
   "metadata": {},
   "source": [
    "**<font color = blue>Question :</font>** \n",
    "Calculer ces valeurs en utilisant `discreteFourier`.\n",
    "On prendra $J=100$ points de discrétisation et on calculera les coefficients jusqu'à $N=10$.\n",
    "Que pensez-vous de l'approximation ?"
   ]
  },
  {
   "cell_type": "code",
   "execution_count": 15,
   "metadata": {},
   "outputs": [
    {
     "name": "stdout",
     "output_type": "stream",
     "text": [
      "[0.         0.02020202 0.04040404 0.06060606 0.08080808 0.1010101\n",
      " 0.12121212 0.14141414 0.16161616 0.18181818 0.2020202  0.22222222\n",
      " 0.24242424 0.26262626 0.28282828 0.3030303  0.32323232 0.34343434\n",
      " 0.36363636 0.38383838 0.4040404  0.42424242 0.44444444 0.46464646\n",
      " 0.48484848 0.50505051 0.52525253 0.54545455 0.56565657 0.58585859\n",
      " 0.60606061 0.62626263 0.64646465 0.66666667 0.68686869 0.70707071\n",
      " 0.72727273 0.74747475 0.76767677 0.78787879 0.80808081 0.82828283\n",
      " 0.84848485 0.86868687 0.88888889 0.90909091 0.92929293 0.94949495\n",
      " 0.96969697 0.98989899 1.01010101 1.03030303 1.05050505 1.07070707\n",
      " 1.09090909 1.11111111 1.13131313 1.15151515 1.17171717 1.19191919\n",
      " 1.21212121 1.23232323 1.25252525 1.27272727 1.29292929 1.31313131\n",
      " 1.33333333 1.35353535 1.37373737 1.39393939 1.41414141 1.43434343\n",
      " 1.45454545 1.47474747 1.49494949 1.51515152 1.53535354 1.55555556\n",
      " 1.57575758 1.5959596  1.61616162 1.63636364 1.65656566 1.67676768\n",
      " 1.6969697  1.71717172 1.73737374 1.75757576 1.77777778 1.7979798\n",
      " 1.81818182 1.83838384 1.85858586 1.87878788 1.8989899  1.91919192\n",
      " 1.93939394 1.95959596 1.97979798 2.        ]\n",
      "[1.5 1.5 1.5 1.5 1.5 1.5 1.5 1.5 1.5 1.5 0.  0.  0.  0.  0.  0.  0.  0.\n",
      " 0.  0.  0.  0.  0.  0.  0.  0.  0.  0.  0.  0.  0.  0.  0.  0.  0.  0.\n",
      " 0.  0.  0.  0.  0.  0.  0.  0.  0.  0.  0.  0.  0.  0.  0.  0.  0.  0.\n",
      " 0.  0.  0.  0.  0.  0.  0.  0.  0.  0.  0.  0.  0.  0.  0.  0.  0.  0.\n",
      " 0.  0.  0.  0.  0.  0.  0.  0.  0.  0.  0.  0.  0.  0.  0.  0.  0.  0.\n",
      " 1.5 1.5 1.5 1.5 1.5 1.5 1.5 1.5 1.5 1.5]\n",
      "[-1.71737624e-16+1.71737624e-16j -3.03475516e-02+8.81677878e-03j\n",
      " -5.55618086e-02+1.42658477e-02j -6.38217340e-02+1.42658477e-02j\n",
      " -4.62191730e-02+8.81677878e-03j -1.14491749e-16-3.64291930e-17j\n",
      "  6.97919905e-02-8.81677878e-03j  1.50916905e-01-1.42658477e-02j\n",
      "  2.26749157e-01-1.42658477e-02j  2.80554450e-01-8.81677878e-03j\n",
      "  3.00000000e-01+0.00000000e+00j  2.80554450e-01+8.81677878e-03j\n",
      "  2.26749157e-01+1.42658477e-02j  1.50916905e-01+1.42658477e-02j\n",
      "  6.97919905e-02+8.81677878e-03j -1.14491749e-16+3.64291930e-17j\n",
      " -4.62191730e-02-8.81677878e-03j -6.38217340e-02-1.42658477e-02j\n",
      " -5.55618086e-02-1.42658477e-02j -3.03475516e-02-8.81677878e-03j\n",
      " -1.71737624e-16-1.71737624e-16j]\n"
     ]
    }
   ],
   "source": [
    "# Génération des points de discrétisation\n",
    "t = np.linspace(0, T, 100)\n",
    "print(t)\n",
    "# Calcul du vecteur des valeurs de f sur [0, T]\n",
    "#fj = f_vectorisee(t,a,T,A) ; ça donne des 1 au lieu de 1.5 et on ne comprend pas pourquoi\n",
    "fj = np.array([f(elem,a,T,A) for elem in t])\n",
    "print(fj)\n",
    "\n",
    "# Calcul des coefficients de Fourier\n",
    "N = 10    # Degré du polynôme\n",
    "coeffs_fourier = discreteFourier(fj, N)\n",
    "print(coeffs_fourier)"
   ]
  },
  {
   "cell_type": "markdown",
   "metadata": {},
   "source": [
    "<font color = blue> On constate que les valeurs des coefficients de Fourier obtenus numériquement ont une partie imaginaire quasi-nulle (incertitudes).\n",
    "On remarque aussi que $c_0 =  3.00000000e-01+0.00000000e+00j $ (11ème élément du vecteur) ce qui correspond bien à la valeur de $c_0$ calculée à la question précedente, car son calcul n'implique des fonctions qui peuvent apporter de l'incertitude comme exponentielle (utilisée dans la fonction discreteFourier). \\\n",
    "On note par ailleurs que pour les valeurs de n qui sont divisibles par 5, la partie réelle est quasiment nulle car dans ce cas $\\sin(0.2n\\pi) = 0$.<font>"
   ]
  },
  {
   "cell_type": "markdown",
   "metadata": {},
   "source": [
    "### 3.4. Coefficients réels\n",
    "\n",
    "Reprenons une fonction $f$ générique.\n",
    "En utilisant les formules d'Euler, on peut réécrire l'expression de $S_N$ sous la forme\n",
    "\\begin{equation}\n",
    "S_N(t) = a_0(f) + \\sum_{n=1}^N \\left(a_n(f) \\cos\\left(2\\pi n \\dfrac tT\\right) + b_n(f) \\sin\\left(2\\pi n \\dfrac tT\\right) \\right).\n",
    "\\end{equation} "
   ]
  },
  {
   "cell_type": "markdown",
   "metadata": {},
   "source": [
    "**<font color = blue>Question :</font>** \n",
    "Calculer les valeurs des $a_n(f)$ et des $b_n(f)$ en fonction des $c_n(f)$."
   ]
  },
  {
   "cell_type": "markdown",
   "metadata": {},
   "source": [
    "<font color = blue> Soit $f$ une fonction Lebesgue-intégrable $T$-périodique et soit $N \\in \\mathbb{N}^*$\n",
    "    \\begin{equation}\n",
    "    \\begin{split}\n",
    "    S_N(t) & = \\sum_{n = -N}^{N} c_n(f) \\exp\\left(2i\\pi n \\frac{t}{T} \\right) \\\\\n",
    "    & = \\sum_{n = -N}^{-1} c_n(f) \\exp\\left(2i\\pi n \\frac{t}{T} \\right) + c_0(f) + \\sum_{n = 1}^{N} c_n(f) \\exp\\left(2i\\pi n \\frac{t}{T} \\right) \\\\\n",
    "    & = c_0(f) + \\sum_{n = 1}^{N} c_{-n}(f) \\exp\\left(-2i\\pi n \\frac{t}{T} \\right) + \\sum_{n = 1}^{N} c_n(f) \\exp\\left(2i\\pi n \\frac{t}{T} \\right) \\\\\n",
    "    & = c_0(f) + \\sum_{n = 1}^{N} c_n(f) \\left( \\cos\\left(2\\pi n \\frac{t}{T} \\right) + i\\sin\\left(2\\pi n\\frac{t}{T} \\right) \\right) + \\sum_{n = 1}^{N} c_{-n}(f) \\left( \\cos\\left(2\\pi n \\frac{t}{T} \\right) - i\\sin\\left(2\\pi n\\frac{t}{T} \\right) \\right) \\\\\n",
    "    & = c_0(f) + \\sum_{n = 1}^{N} \\left(c_n(f) + c_{-n}(f) \\right) \\cdot \\cos\\left(2\\pi n \\frac{t}{T} \\right) + i\\sum_{n = 1}^{N}  \\left(c_n(f) - c_{-n}(f) \\right) \\cdot \\sin\\left(2\\pi n \\frac{t}{T} \\right) \\\\\n",
    "    \\end{split}\n",
    "    \\end{equation} \\\n",
    "   Sachant que deux polynômes de même degré sont égaux si et seulement si les coefficients de leurs monômes de même degré sont égaux, on trouve :\n",
    "    \\begin{cases}\n",
    "     a_n(f) = c_n(f) + c_{-n}(f) \\quad & \\forall n \\in \\mathbb{N}^* \\\\\n",
    "     b_n(f) = i \\cdot (c_n(f) - c_{-n}(f)) \\quad & \\forall n \\in \\mathbb{N}^* \\\\\n",
    "    a_0(f) = c_0(f)\n",
    "    \\end{cases}\n",
    "    <font>"
   ]
  },
  {
   "cell_type": "markdown",
   "metadata": {},
   "source": [
    "On peut également l'écrire\n",
    "\\begin{equation}\n",
    "S_N(t) = A_0(f) + \\sum_{n=1}^N A_n(f) \\cos\\left(2\\pi n \\frac tT + \\varphi_n(f)\\right).\n",
    "\\end{equation} "
   ]
  },
  {
   "cell_type": "markdown",
   "metadata": {},
   "source": [
    "**<font color = blue>Question :</font>** \n",
    "Calculer les valeurs des $A_n(f)$ et des $\\varphi_n(f)$ en fonction des $a_n(f)$ et des $b_n(f)$ d'une part, puis en fonction des $c_n(f)$."
   ]
  },
  {
   "cell_type": "markdown",
   "metadata": {},
   "source": [
    "<font color = blue>\n",
    "    Soit $f$ une fonction $T$-périodique Lebesgue-intégrable (non identiquement nulle).\n",
    "    \\begin{equation}\n",
    "    \\begin{split}\n",
    "    S_N(t) & = A_0(f) + \\sum_{n = 1}^{N} A_n(f) \\cdot \\cos\\left(2\\pi n \\dfrac tT + \\varphi_n(f) \\right) \\\\\n",
    "    & = A_0(f) + \\sum_{n = 1}^{N} A_n(f) \\left(\\cos\\left(2\\pi n \\dfrac tT \\right) \\cdot \\cos\\left(\\varphi_n(f) \\right) \\right) - \\sum_{n = 1}^{N} A_n(f) \\left(\\sin\\left(2\\pi n \\dfrac tT \\right) \\cdot \\sin\\left(\\varphi_n(f) \\right) \\right) \\\\\n",
    "    & = a_0(f) + \\sum_{n=1}^N \\left(a_n(f) \\cos\\left(2\\pi n \\dfrac tT\\right) + b_n(f) \\sin\\left(2\\pi n \\dfrac tT\\right) \\right) \\\\\n",
    "    \\end{split}\n",
    "    \\end{equation}\n",
    "     Ainsi, comme les polynômes sont égaux si seulement si les coefficients de même degré sont égaux, alors :\n",
    "    \\begin{cases}\n",
    "    a_n(f) = A_n(f) \\cdot \\cos(\\varphi_n(f)) \\qquad (*)\\\\\n",
    "    b_n(f) = - A_n(f) \\cdot \\sin(\\varphi_n(f)) \\qquad () \\\\\n",
    "    a_0(f) = A_0(f) \\\\\n",
    "    \\end{cases}\n",
    "    D'une part, si $\\forall n \\in \\mathbb{N} \\; ; a_n(f) \\neq 0$, en divisant $()$ par $(*)$, on obtient :\n",
    "    \\begin{equation}\n",
    "    \\tan(\\varphi_n(f)) = - \\frac{b_n(f)}{a_n(f)} \\Longleftrightarrow \\tan(-\\varphi_n(f)) = \\frac{b_n(f)}{a_n(f)}\\\\\n",
    "    \\end{equation}\n",
    "    Si $a_n > 0$ alors : \n",
    "    \\begin{equation}\n",
    "    \\varphi_n = \\arctan\\left(\\frac{-b_n}{a_n}\\right)\n",
    "    \\end{equation}\n",
    "    Sinon, si $a_n < 0$ :\n",
    "    \\begin{equation}\n",
    "    \\varphi_n = \\arctan\\left(\\frac{-b_n}{a_n}\\right) + \\pi\n",
    "    \\end{equation}\n",
    "    Enfin, si $a_n = 0$, alors :\n",
    "    \\begin{equation}\n",
    "    \\varphi_n = sign(b_n) \\cdot \\frac{\\pi}{2}\n",
    "    \\end{equation}\n",
    "    D'autre part, en sommant membre à membre le carré de $()$ et celui de $(*)$, on trouve :\n",
    "    \\begin{equation}\n",
    "    A_n²(f) \\cdot (\\cos²(\\varphi_n(f)) + \\sin²(\\varphi_n(f)))= a_n²(f) + b_n²(f) \\\\\n",
    "    \\end{equation}\n",
    "    Par conséquent, \n",
    "    \\begin{equation}\n",
    "    A_n(f) = \\left|\\sqrt{a_n²(f) + b_n²(f)} \\right| \\\\\n",
    "    \\end{equation}\n",
    "    - Réécriture de $A_n(f)$ et $\\varphi_n(f)$ en fonction de $c_n(f)$ : \n",
    "        $$A_n = 2|{c_n}| \\quad \\text{et} \\quad \\varphi_n = arg(c_n)$$\n",
    "    <font>"
   ]
  },
  {
   "cell_type": "markdown",
   "metadata": {},
   "source": [
    "**<font color = blue>Question :</font>** \n",
    "Représenter sur deux graphes côte-à-côte, $|c_n(f)|$ en fonction de $n$ et $\\arg(c_n(f))$ en fonction de $n$ pour la fonction créneau précédemment définie. "
   ]
  },
  {
   "cell_type": "code",
   "execution_count": 16,
   "metadata": {},
   "outputs": [
    {
     "data": {
      "text/plain": [
       "Text(0, 0.5, 'arg(c_n(f))')"
      ]
     },
     "execution_count": 16,
     "metadata": {},
     "output_type": "execute_result"
    },
    {
     "data": {
      "image/png": "[encoded data removed]",
      "text/plain": [
       "<Figure size 1600x800 with 2 Axes>"
      ]
     },
     "metadata": {},
     "output_type": "display_data"
    }
   ],
   "source": [
    "#plt.title(\"Tracé des du module et de l'argument des coefficients de fourier\")\n",
    "# Points de discrétisation\n",
    "n = range(-N,N+1)\n",
    "\n",
    "# Calcul du module des coefficients de Fourier |c_n(f)|\n",
    "mod_coeffs_fourier = np.absolute(coeffs_fourier)\n",
    "\n",
    "# Calcul de l'argument des coefficients de Fourier arg(c_n(f))\n",
    "args = np.angle(coeffs_fourier)\n",
    "\n",
    "# Tracé des graphes |c_n(f)| et arg(c_n(f)) en fonction de n \n",
    "fig, axs = plt.subplots(1, 2, figsize=(16, 8))\n",
    "\n",
    "# Tracé du module des coefficients de Fourier\n",
    "axs[0].plot(n, mod_coeffs_fourier, 'r')\n",
    "axs[0].set_title(\"Module des coefficients de Fourier |c_n(f)|\")\n",
    "axs[0].set_xlabel(\"n\")\n",
    "axs[0].set_ylabel(\"|c_n(f)|\")\n",
    "\n",
    "# Tracé de l'argument des coefficients de Fourier\n",
    "axs[1].plot(n, args, 'b')\n",
    "axs[1].set_title(\"Argument des coefficients de Fourier arg(c_n(f))\")\n",
    "axs[1].set_xlabel(\"n\")\n",
    "axs[1].set_ylabel(\"arg(c_n(f))\")"
   ]
  },
  {
   "cell_type": "markdown",
   "metadata": {},
   "source": [
    "### 3.4. Convergence\n",
    "\n",
    "Tout l'intérêt des séries de Fourier est qu'elles convergent en un certain sens vers la fonction de départ. \n",
    "\n",
    "#### Inégalité de Bessel\n",
    "\n",
    "Soit $f\\in\\mathcal{L}_{\\rm per}^2(0,T)$ alors \n",
    "\\begin{equation}\n",
    "\\sum_{n=-N}^N |c_n|^2 \\leq \\frac1T \\int_0^T |f(t)|^2 dt.\n",
    "\\end{equation}\n",
    "\n",
    "#### Convergence des sommes partielles\n",
    "\n",
    "Par ailleurs, la suite $S_N$ des polynômes trigonométriques de meilleure approximation dans $\\mathbb{T}_N$ converge vers $f$ dans $\\mathcal{L}_{\\rm per}^2(0,T)$ :\n",
    "\\begin{equation}\n",
    "\\lim_{N\\to\\infty} \\|f-S_N\\|_2 = 0.  \n",
    "\\end{equation}\n",
    "Cela veut dire que la série $\\sum_{n\\in\\mathbb{Z}} c_n(f)\\exp(2i\\pi n t/T)$ converge normalement et donc presque partout vers $f$.\n",
    "\n",
    "#### Égalité de Parseval\n",
    "\n",
    "Soit $f\\in\\mathcal{L}_{\\rm per}^2(0,T)$, alors \n",
    "\\begin{equation}\n",
    "\\sum_{n=-\\infty}^\\infty |c_n|^2 = \\frac1T \\int_0^T |f(t)|^2 dt.\n",
    "\\end{equation}"
   ]
  },
  {
   "cell_type": "markdown",
   "metadata": {},
   "source": [
    "**<font color = blue>Question :</font>** \n",
    "Illustrer graphiquement l'inégalité de Bessel et l'égalité de Parseval sur l'exemple de la fonction créneau. "
   ]
  },
  {
   "cell_type": "code",
   "execution_count": 28,
   "metadata": {},
   "outputs": [
    {
     "name": "stdout",
     "output_type": "stream",
     "text": [
      "0.45225\n"
     ]
    },
    {
     "data": {
      "text/plain": [
       "<matplotlib.legend.Legend at 0x1aef8a9d2d0>"
      ]
     },
     "execution_count": 28,
     "metadata": {},
     "output_type": "execute_result"
    },
    {
     "data": {
      "image/png": "[encoded data removed]",
      "text/plain": [
       "<Figure size 640x480 with 1 Axes>"
      ]
     },
     "metadata": {},
     "output_type": "display_data"
    }
   ],
   "source": [
    "# Approximation de la partie majorante de l'inégalité de Bessel\n",
    "def approx_integ(g, x, y, n) : \n",
    "    \"\"\" g est une fonction (créneau dans notre cas)\n",
    "    x, y sont les bornes de l'intégrale\n",
    "    n est le nombre des points de discrétisation \n",
    "    - renvoie une valeur approchée de la quantité\n",
    "    majorante de l'inégalité de Bessel via la \n",
    "    méthode des trapèzes \"\"\"\n",
    "    global a, A, T\n",
    "    v_approx_integ = 0\n",
    "    h = (y-x)/n\n",
    "    for k in range(n) :\n",
    "        v_approx_integ += np.square(np.absolute(g(x + h*k, a, T, A))) + np.square(np.absolute(g(x + (k+1)*h, a, T, A)))\n",
    "    v_approx_integ *= h/2\n",
    "    return v_approx_integ / T\n",
    "\n",
    "# Calcul de la partie minorante de l'inégalité de Bessel\n",
    "def somme_coeff(cn) :\n",
    "    \"\"\" prend en paramètre un vecteur de\n",
    "    coefficients de Fourier et renvoie la somme\n",
    "    de leur module au carré \"\"\"\n",
    "    # Récupération du degré N :\n",
    "    N = int((np.shape(cn)[0] - 1) / 2)\n",
    "    arr = np.array([])\n",
    "    for n in range(1,N+1) :\n",
    "        coeffs = (cn[N-n:N+n+1])\n",
    "        somme_cf = 0\n",
    "        for cf in coeffs :\n",
    "            somme_cf += np.square(np.absolute(cf))\n",
    "        arr = np.append(arr, somme_cf)\n",
    "    return arr\n",
    "\n",
    "#Tracé de graphes des deux quantités\n",
    "n = range(1,N+1)\n",
    "integ_maj = approx_integ(f,0,T,1000)\n",
    "print(integ_maj)\n",
    "arr_1 = np.array([integ_maj for i in n])\n",
    "plt.plot(n, arr_1, 'r-',label='Partie majorante de l\\'inégalité de Bessel')\n",
    "arr_2 = somme_coeff(coeffs_fourier)\n",
    "plt.plot(n, arr_2, 'b-', label='Partie minorante de l\\'inégalité de Bessel')\n",
    "plt.legend()\n",
    "\n",
    "        "
   ]
  },
  {
   "cell_type": "markdown",
   "metadata": {},
   "source": [
    "<font color = blue>On remarque qu'effectivement l'inégalité de Bessel est justifiée graphiquement avec la somme des carrés du module des coefficients de Fourier qui croit en s'approchant de l'intégrale majorante à mesure que N (le degré du polynome) grandit.</font>"
   ]
  },
  {
   "cell_type": "markdown",
   "metadata": {},
   "source": [
    "#### Théorème de Dirichlet\n",
    "\n",
    "Soit $f\\in\\mathcal{L}_{\\rm per}^1(0,T)$ et $t_0$ tel que $f$ admette des limites à droite et à gauche en $t_0$, respectivement notées $f(t_0^+)$ et $f(t_0^-)$, alors \n",
    "\\begin{equation}\n",
    "\\lim_{N\\to\\infty} \\sum_{n=-N}^N c_n(f)\\exp\\left(2i\\pi n \\dfrac {t_0}T\\right) = \\dfrac{f(t_0^+)+f(t_0^-)}2. \n",
    "\\end{equation}"
   ]
  },
  {
   "cell_type": "markdown",
   "metadata": {},
   "source": [
    "**<font color = blue>Question :</font>**  \n",
    "Toujours avec $N=10$ et $J=100$, tracer sur un même graphique la fonction créneau et sa somme de Fourier partielle de degré $N$."
   ]
  },
  {
   "cell_type": "code",
   "execution_count": 40,
   "metadata": {},
   "outputs": [
    {
     "data": {
      "text/plain": [
       "<matplotlib.legend.Legend at 0x1aef9fef7d0>"
      ]
     },
     "execution_count": 40,
     "metadata": {},
     "output_type": "execute_result"
    },
    {
     "data": {
      "image/png": "[encoded data removed]",
      "text/plain": [
       "<Figure size 640x480 with 1 Axes>"
      ]
     },
     "metadata": {},
     "output_type": "display_data"
    }
   ],
   "source": [
    "# Tracé de la fonction créneau et de sa somme de Fourier partielle de degré N\n",
    "coeffs_fourier = discreteFourier(fj, 10)\n",
    "Sn = invFourier(coeffs_fourier, 100)\n",
    "plt.plot(t,Sn,'r',label = 'Somme partielle de Fourier')\n",
    "plt.plot(t,fj,'b',label ='fonction créneau')\n",
    "plt.legend()\n"
   ]
  },
  {
   "cell_type": "markdown",
   "metadata": {},
   "source": [
    "<font color = blue>Les 2 courbes sont compatible malgré une différence plus importantes au niveau des points de discontinuité</font>"
   ]
  },
  {
   "cell_type": "markdown",
   "metadata": {},
   "source": [
    "## 4. Calcul de sommes de séries"
   ]
  },
  {
   "cell_type": "markdown",
   "metadata": {},
   "source": [
    "On considère maintenant la fonction $g$, $2\\pi$ périodique, donnée par $g(x)=x^2$ sur l'intervalle $[-\\pi,\\pi]$."
   ]
  },
  {
   "cell_type": "markdown",
   "metadata": {},
   "source": [
    "**<font color = blue>Question :</font>**  \n",
    "Calculer les coefficients de Fourier $c_n(g)$. "
   ]
  },
  {
   "cell_type": "markdown",
   "metadata": {},
   "source": [
    "<font color = blue>$$c_0 = \\frac{1}{2\\pi}\\int_{-\\pi}^{\\pi} x^{2} \\,dx $$ \n",
    "$$c_0 = \\frac{\\pi^{2}}{3}$$ ;\n",
    "   <font color = blue>$$\n",
    "2 \\int_{0}^{\\pi} \\frac{x^2 \\cos(nx) \\, dx}{2\\pi} = \\frac{1}{n \\pi} \\int_{0}^{\\pi} x^2 \\left[ \\frac{\\sin(nx)}{n} \\right]' dx\n",
    "$$\n",
    "\n",
    "<font color = blue>$$\n",
    "= \\left[ x^{2} \\sin(nx) \\right]_{0}^{\\pi} - \\frac{1}{n \\pi} \\int{0}^{\\pi} 2x \\sin(nx) \\, dx\n",
    "$$\n",
    "\n",
    "<font color = blue>$$\n",
    "= 0 + \\frac{2}{n^2 \\pi} \\int_{0}^{\\pi} x \\left( \\cos(nx) \\right)' dx\n",
    "$$\n",
    "\n",
    "<font color = blue>$$\n",
    "= 0 + \\frac{2}{n^2 \\pi} \\left[ \\cos(nx) x \\right]_{0}^{\\pi} - 2 \\int_{0}^{\\pi} \\cos(nx) \\, dx\n",
    "$$\n",
    "\n",
    "<font color = blue>$$\n",
    "= \\frac{2  (-1)^n}{n^2} \\quad \\left( \\text{car } \\int_{0}^{\\pi} \\cos(nx) \\, dx = 0 \\right)\n",
    "$$\n",
    "</font>"
   ]
  },
  {
   "cell_type": "markdown",
   "metadata": {},
   "source": [
    "**<font color = blue>Question :</font>**  \n",
    "En utilisant les théorèmes de la question 3.4, expliquer comment calculer à l'aide de ces coefficients de Fourier les sommes des séries\n",
    "* $\\sum\\limits_{n=1}^{+\\infty} \\dfrac1{n^2}$,\n",
    "* $\\sum\\limits_{n=1}^{+\\infty} \\dfrac{(-1)^{n+1}}{n^2}$,\n",
    "* $\\sum\\limits_{n=1}^{+\\infty} \\dfrac1{n^4}$."
   ]
  },
  {
   "cell_type": "markdown",
   "metadata": {},
   "source": [
    "<font color = blue>$$\n",
    "\\text{On a trouvé que } c_n(g) = \\frac{2(-1)^n}{n^2}.$$\n",
    "\n",
    "\n",
    "<font color = blue>Pour $x = \\pi$ , on a :\n",
    "<font color = blue>$$\n",
    "\\sum_{n=-N}^{N} c_n(g) \\exp\\left(2i\\pi \\frac{n \\pi}{2\\pi}\\right) = \\sum_{n=-N}^{N} c_n(g)(-1)^n = 2 \\sum_{n=-N}^{N} \\frac{1}{n^2}.\n",
    "$$\n",
    "\n",
    "<font color = blue>Selon le théorème de Dirichlet :\n",
    "<font color = blue>$$\n",
    "\\lim_{N \\to \\infty} \\sum_{n=-N}^{N} \\frac{1}{n^2} = \\frac{g(\\pi^+) + g(\\pi^-)}{2}.\n",
    "$$\n",
    "\n",
    "<font color = blue>Comme  g  est continu, on a  $g(\\pi^{+}) = g(\\pi^{-}) = \\pi^2$ . \n",
    "Ainsi :\n",
    "\n",
    "<font color = blue>$$c_0 + 2 \\sum_{n=1}^{\\infty} \\frac{2}{n^2} = \\pi^2 \\quad \\left( 2 \\text{ provient de la parité de } \\frac{1}{n^2} \\right).\n",
    "$$\n",
    "\n",
    "<font color = blue>Donc :\n",
    "<font color = blue>$$\n",
    "\\frac{\\pi^2}{3} + 4 \\sum_{n=1}^{\\infty} \\frac{1}{n^2} = \\pi^2.\n",
    "$$\n",
    "\n",
    "<font color = blue>Ainsi :\n",
    "<font color = blue>$$\n",
    "\\sum_{n=1}^{\\infty} \\frac{1}{n^2} = \\frac{\\pi^2}{6}.\n",
    "$$\n",
    "\n",
    "<font color = blue>En procédant de même avec  x = 0 , on trouve que :\n",
    "<font color = blue>$$\n",
    "\\sum_{n=1}^{\\infty} \\frac{(-1)^{n+1}}{n^2} = \\frac{\\pi^2}{12}.\n",
    "$$\n",
    "<font color = blue>pour la toixième , on utilie le théorème de Parseval :\n",
    " $$\\frac{\\int_{-\\pi}^{\\pi} x^4 \\, dx}{2\\pi} = \\frac{\\int_{0}^{\\pi} x^4 \\, dx}{\\pi} = \\frac{\\pi^5}{5\\pi} = \\frac{\\pi^{4}}{5}$$\n",
    " <font color = blue>donc $$\\frac{\\pi^{4}}{9} + 2 \\sum_{1}^{\\infty} \\frac{4}{n^4} =  \\frac{\\pi^{4}}{5}$$\n",
    "<font color = blue>soit $$ \\sum_{1}^{\\infty} \\frac{1}{n^4} = \\frac{\\pi^4 (\\frac{1}{5} -\\frac{1}{9})}{8} = \\frac{\\pi^4 \\frac{9-5}{45}}{8}$$\n",
    "<font color = blue>donc $$ \\sum_{1}^{\\infty} \\frac{1}{n^4} = \\frac{4\\pi^4}{360} = \\frac{\\pi^4}{90}$$</font>"
   ]
  },
  {
   "cell_type": "markdown",
   "metadata": {},
   "source": [
    "**<font color = blue>Question :</font>**  \n",
    "Calculer numériquement ces sommes en utilisant `discreteFourier` et `invFourier`. Discuter la qualité de l'approximation."
   ]
  },
  {
   "cell_type": "code",
   "execution_count": 37,
   "metadata": {},
   "outputs": [
    {
     "name": "stdout",
     "output_type": "stream",
     "text": [
      "[0.01798322-1.35525272e-20j 9.48890013+1.35525272e-19j]\n",
      "(1.5498402528204531+3.3881317890172014e-20j) 1.6449340668482264\n",
      "(0.8178889723016403+3.3881317890172014e-21j) 0.8224670334241132\n",
      "(1.0820635277610526+0j) 1.082323233711138\n"
     ]
    }
   ],
   "source": [
    "def g(x) :\n",
    "    if -pi <= x <= pi:\n",
    "        return x*x\n",
    "    elif x > pi :\n",
    "        return g(x-2*pi)\n",
    "    else :\n",
    "        return g(x+2*pi)\n",
    "x2 = np.linspace(0,2*pi,10000)\n",
    "y2 = np.array([g(i) for i in x2])\n",
    "\n",
    "\n",
    "\n",
    "cn2 = discreteFourier(y2 , 10)\n",
    "#print(cn2[0],\"\\n\",cn2[1],\"\\n\",cn2[2],\"\\n\",cn2[3])\n",
    "S_n2 = invFourier(cn2 , 2) # on n'a besoin que de deux valeurs , 0 et pi\n",
    "print(S_n2)\n",
    "c_0 = cn2[10]#c0 , on doit avoir pi**2 /3\n",
    "\n",
    "print((S_n2[1] - c_0)/4, pi**2 /6) #première somme\n",
    "print((c_0-S_n2[0])/4 , pi**2 /12) #deuxième somme\n",
    "\n",
    "somme = 0\n",
    "for elem in cn2:\n",
    "    somme += abs(elem)**2\n",
    "print((somme- c_0**2)/8 , pi**4 /90) #troisième somme\n"
   ]
  },
  {
   "cell_type": "markdown",
   "metadata": {},
   "source": [
    "<font color = blue>L'utilisation de invFourier pour reconstruire la fonction entraîne une légère perte de précision. Cette perte provient des calculs numériques des exponentielles complexes nécessaires à l'inversion de Fourier.Les incertitudes observées sont de :\n",
    "-0.1 pour la 1ere somme.\n",
    "-0.01 pour la 2eme somme.\n",
    "-0.0003 pour la 3eme somme.</font>"
   ]
  },
  {
   "cell_type": "code",
   "execution_count": null,
   "metadata": {},
   "outputs": [],
   "source": []
  }
 ],
 "metadata": {
  "kernelspec": {
   "display_name": "Python 3 (ipykernel)",
   "language": "python",
   "name": "python3"
  },
  "language_info": {
   "codemirror_mode": {
    "name": "ipython",
    "version": 3
   },
   "file_extension": ".py",
   "mimetype": "text/x-python",
   "name": "python",
   "nbconvert_exporter": "python",
   "pygments_lexer": "ipython3",
   "version": "3.12.7"
  }
 },
 "nbformat": 4,
 "nbformat_minor": 4
}
